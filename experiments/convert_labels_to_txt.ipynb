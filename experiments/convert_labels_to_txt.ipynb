{
 "cells": [
  {
   "cell_type": "code",
   "execution_count": 2,
   "id": "88a85c32-4263-4501-a8cd-527df9baab6c",
   "metadata": {},
   "outputs": [],
   "source": [
    "import pandas as pd\n",
    "import os"
   ]
  },
  {
   "cell_type": "code",
   "execution_count": 3,
   "id": "83c9443b-b1bf-4fab-b764-f0be55fbf5ef",
   "metadata": {},
   "outputs": [
    {
     "name": "stdout",
     "output_type": "stream",
     "text": [
      "/home/samara_hack_solution\n"
     ]
    }
   ],
   "source": [
    "print(os.getcwd())"
   ]
  },
  {
   "cell_type": "code",
   "execution_count": 27,
   "id": "b728b61f-8ca6-4ad7-95a7-a8fdf782d3f6",
   "metadata": {},
   "outputs": [
    {
     "data": {
      "text/html": [
       "<div>\n",
       "<style scoped>\n",
       "    .dataframe tbody tr th:only-of-type {\n",
       "        vertical-align: middle;\n",
       "    }\n",
       "\n",
       "    .dataframe tbody tr th {\n",
       "        vertical-align: top;\n",
       "    }\n",
       "\n",
       "    .dataframe thead th {\n",
       "        text-align: right;\n",
       "    }\n",
       "</style>\n",
       "<table border=\"1\" class=\"dataframe\">\n",
       "  <thead>\n",
       "    <tr style=\"text-align: right;\">\n",
       "      <th></th>\n",
       "      <th>id</th>\n",
       "      <th>center</th>\n",
       "      <th>class</th>\n",
       "      <th>subclass</th>\n",
       "      <th>bbox</th>\n",
       "      <th>convex</th>\n",
       "      <th>headtail</th>\n",
       "      <th>orient</th>\n",
       "      <th>relevance</th>\n",
       "      <th>mark_tool</th>\n",
       "    </tr>\n",
       "  </thead>\n",
       "  <tbody>\n",
       "    <tr>\n",
       "      <th>3199</th>\n",
       "      <td>001_1938.jpg</td>\n",
       "      <td>1769.50 1203.50</td>\n",
       "      <td>Tiger</td>\n",
       "      <td>NaN</td>\n",
       "      <td>1574.00 1005.00 1965.00 1402.00</td>\n",
       "      <td>NaN</td>\n",
       "      <td>NaN</td>\n",
       "      <td>NaN</td>\n",
       "      <td>0</td>\n",
       "      <td>BBox</td>\n",
       "    </tr>\n",
       "    <tr>\n",
       "      <th>3264</th>\n",
       "      <td>001_2029.jpg</td>\n",
       "      <td>1321.50 983.00</td>\n",
       "      <td>Tiger</td>\n",
       "      <td>NaN</td>\n",
       "      <td>1136.00 828.00 1507.00 1138.00</td>\n",
       "      <td>NaN</td>\n",
       "      <td>NaN</td>\n",
       "      <td>NaN</td>\n",
       "      <td>0</td>\n",
       "      <td>BBox</td>\n",
       "    </tr>\n",
       "    <tr>\n",
       "      <th>3127</th>\n",
       "      <td>001_537.jpg</td>\n",
       "      <td>841.50 1558.00</td>\n",
       "      <td>Tiger</td>\n",
       "      <td>NaN</td>\n",
       "      <td>0.00 1146.00 1683.00 1970.00</td>\n",
       "      <td>NaN</td>\n",
       "      <td>NaN</td>\n",
       "      <td>NaN</td>\n",
       "      <td>0</td>\n",
       "      <td>BBox</td>\n",
       "    </tr>\n",
       "    <tr>\n",
       "      <th>1878</th>\n",
       "      <td>001_1969.jpg</td>\n",
       "      <td>1570.50 931.50</td>\n",
       "      <td>Tiger</td>\n",
       "      <td>NaN</td>\n",
       "      <td>1307.00 402.00 1834.00 1461.00</td>\n",
       "      <td>NaN</td>\n",
       "      <td>NaN</td>\n",
       "      <td>NaN</td>\n",
       "      <td>0</td>\n",
       "      <td>BBox</td>\n",
       "    </tr>\n",
       "    <tr>\n",
       "      <th>3453</th>\n",
       "      <td>001_2419.jpg</td>\n",
       "      <td>2000.00 769.00</td>\n",
       "      <td>Tiger</td>\n",
       "      <td>NaN</td>\n",
       "      <td>1418.00 421.00 2582.00 1117.00</td>\n",
       "      <td>NaN</td>\n",
       "      <td>NaN</td>\n",
       "      <td>NaN</td>\n",
       "      <td>0</td>\n",
       "      <td>BBox</td>\n",
       "    </tr>\n",
       "  </tbody>\n",
       "</table>\n",
       "</div>"
      ],
      "text/plain": [
       "                id           center  class  subclass  \\\n",
       "3199  001_1938.jpg  1769.50 1203.50  Tiger       NaN   \n",
       "3264  001_2029.jpg   1321.50 983.00  Tiger       NaN   \n",
       "3127   001_537.jpg   841.50 1558.00  Tiger       NaN   \n",
       "1878  001_1969.jpg   1570.50 931.50  Tiger       NaN   \n",
       "3453  001_2419.jpg   2000.00 769.00  Tiger       NaN   \n",
       "\n",
       "                                 bbox  convex  headtail  orient  relevance  \\\n",
       "3199  1574.00 1005.00 1965.00 1402.00     NaN       NaN     NaN          0   \n",
       "3264   1136.00 828.00 1507.00 1138.00     NaN       NaN     NaN          0   \n",
       "3127     0.00 1146.00 1683.00 1970.00     NaN       NaN     NaN          0   \n",
       "1878   1307.00 402.00 1834.00 1461.00     NaN       NaN     NaN          0   \n",
       "3453   1418.00 421.00 2582.00 1117.00     NaN       NaN     NaN          0   \n",
       "\n",
       "     mark_tool  \n",
       "3199      BBox  \n",
       "3264      BBox  \n",
       "3127      BBox  \n",
       "1878      BBox  \n",
       "3453      BBox  "
      ]
     },
     "execution_count": 27,
     "metadata": {},
     "output_type": "execute_result"
    }
   ],
   "source": [
    "labels_tigers = pd.read_csv('Train_3500/3 класса/Тигры/objects.csv')\n",
    "labels_leopard = pd.read_csv('Train_3500/3 класса/дальневосточный леопард/objects.csv')\n",
    "labels_princess = pd.read_csv('Принцесса_400/objects.csv')\n",
    "labels_tigers.sample(5)"
   ]
  },
  {
   "cell_type": "code",
   "execution_count": 23,
   "id": "70ac5aa4-8894-4c7c-8b89-15c8273fbbef",
   "metadata": {},
   "outputs": [],
   "source": [
    "# !mkdir Train_3500/3\\ класса/дальневосточный\\ леопард/labels\n",
    "# !mkdir Train_3500/3\\ класса/Тигры/labels\n",
    "# !mkdir Принцесса_400/labels"
   ]
  },
  {
   "cell_type": "code",
   "execution_count": 20,
   "id": "23d16deb-cc7f-45a2-a168-48722ef7066c",
   "metadata": {},
   "outputs": [],
   "source": [
    "for index, row in labels_leopard.iterrows():\n",
    "    name = row['id'].replace('jpg', 'txt')\n",
    "    anim_class = row['class']\n",
    "    bbox_coords = row['bbox']\n",
    "    with open(f'Train_3500/3 класса/дальневосточный леопард/labels/{name}', 'w') as f:\n",
    "        f.write(f'{anim_class} {bbox_coords}')\n",
    "    # print(index, ':', row['id'], 'has', row['bbox'], 'bbox.')"
   ]
  },
  {
   "cell_type": "code",
   "execution_count": 21,
   "id": "bc16bc91-a5ce-42da-9ce5-39ab595da007",
   "metadata": {},
   "outputs": [],
   "source": [
    "for index, row in labels_tigers.iterrows():\n",
    "    name = row['id'].replace('jpg', 'txt')\n",
    "    anim_class = row['class']\n",
    "    bbox_coords = row['bbox']\n",
    "    with open(f'Train_3500/3 класса/Тигры/labels/{name}', 'w') as f:\n",
    "        f.write(f'{anim_class} {bbox_coords}')"
   ]
  },
  {
   "cell_type": "code",
   "execution_count": 28,
   "id": "a4ea8415-daf1-4abd-aaae-2599874540d7",
   "metadata": {},
   "outputs": [],
   "source": [
    "for index, row in labels_princess.iterrows():\n",
    "    name = row['id'].replace('jpg', 'txt')\n",
    "    anim_class = row['class']\n",
    "    bbox_coords = row['bbox']\n",
    "    with open(f'Принцесса_400/labels/{name}', 'w') as f:\n",
    "        f.write(f'{anim_class} {bbox_coords}')"
   ]
  },
  {
   "cell_type": "code",
   "execution_count": null,
   "id": "9bfcbc82-9358-4315-a7c8-d7f049e127b4",
   "metadata": {},
   "outputs": [],
   "source": []
  }
 ],
 "metadata": {
  "kernelspec": {
   "display_name": "Python 3",
   "language": "python",
   "name": "python3"
  },
  "language_info": {
   "codemirror_mode": {
    "name": "ipython",
    "version": 3
   },
   "file_extension": ".py",
   "mimetype": "text/x-python",
   "name": "python",
   "nbconvert_exporter": "python",
   "pygments_lexer": "ipython3",
   "version": "3.9.5"
  }
 },
 "nbformat": 4,
 "nbformat_minor": 5
}
